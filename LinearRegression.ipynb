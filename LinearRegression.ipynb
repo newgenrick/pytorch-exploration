{
 "cells": [
  {
   "cell_type": "markdown",
   "metadata": {},
   "source": [
    "## Linear Regression"
   ]
  },
  {
   "cell_type": "code",
   "execution_count": 1,
   "metadata": {},
   "outputs": [],
   "source": [
    "import numpy as np\n",
    "import torch\n",
    "import matplotlib.pyplot as plt\n",
    "import torch.nn as nn\n",
    "from torch.autograd import Variable"
   ]
  },
  {
   "cell_type": "code",
   "execution_count": 2,
   "metadata": {},
   "outputs": [],
   "source": [
    "x_values = [i for i in range(11)]\n",
    "x_train = np.array(x_values,dtype = np.float32)\n",
    "x_train = x_train.reshape(-1,1)"
   ]
  },
  {
   "cell_type": "code",
   "execution_count": 3,
   "metadata": {},
   "outputs": [],
   "source": [
    "y_values = [2*i+1 for i in x_values]\n",
    "y_train = np.array(y_values,dtype = np.float32)\n",
    "y_train = y_train.reshape(-1,1)"
   ]
  },
  {
   "cell_type": "code",
   "execution_count": 4,
   "metadata": {},
   "outputs": [],
   "source": [
    "# creating model class\n",
    "class LinearRegressionModel(nn.Module):\n",
    "    \n",
    "    def __init__(self, input_dim, output_dim):\n",
    "        super(LinearRegressionModel,self).__init__()\n",
    "        self.linear = nn.Linear(input_dim, output_dim)\n",
    "        \n",
    "    def forward(self,x):\n",
    "        out = self.linear(x)\n",
    "        return out"
   ]
  },
  {
   "cell_type": "code",
   "execution_count": 5,
   "metadata": {},
   "outputs": [],
   "source": [
    "input_dim = 1\n",
    "output_dim = 1\n",
    "\n",
    "model = LinearRegressionModel(input_dim, output_dim)"
   ]
  },
  {
   "cell_type": "code",
   "execution_count": 6,
   "metadata": {},
   "outputs": [
    {
     "data": {
      "text/plain": [
       "LinearRegressionModel(\n",
       "  (linear): Linear(in_features=1, out_features=1, bias=True)\n",
       ")"
      ]
     },
     "execution_count": 6,
     "metadata": {},
     "output_type": "execute_result"
    }
   ],
   "source": [
    "model"
   ]
  },
  {
   "cell_type": "code",
   "execution_count": 7,
   "metadata": {},
   "outputs": [],
   "source": [
    "criterion = nn.MSELoss()"
   ]
  },
  {
   "cell_type": "code",
   "execution_count": 8,
   "metadata": {},
   "outputs": [],
   "source": [
    "learning_rate = 0.01\n",
    "\n",
    "optimizer = torch.optim.SGD(model.parameters(), lr = learning_rate)"
   ]
  },
  {
   "cell_type": "code",
   "execution_count": 9,
   "metadata": {},
   "outputs": [
    {
     "name": "stdout",
     "output_type": "stream",
     "text": [
      "epoch 0 : loss 307.72100830078125\n",
      "epoch 1 : loss 25.3237247467041\n",
      "epoch 2 : loss 2.2869722843170166\n",
      "epoch 3 : loss 0.40546223521232605\n",
      "epoch 4 : loss 0.24954871833324432\n",
      "epoch 5 : loss 0.23441386222839355\n",
      "epoch 6 : loss 0.23078905045986176\n",
      "epoch 7 : loss 0.22812990844249725\n",
      "epoch 8 : loss 0.22557559609413147\n",
      "epoch 9 : loss 0.22305618226528168\n",
      "epoch 10 : loss 0.22056502103805542\n",
      "epoch 11 : loss 0.2181021273136139\n",
      "epoch 12 : loss 0.2156667858362198\n",
      "epoch 13 : loss 0.21325820684432983\n",
      "epoch 14 : loss 0.21087689697742462\n",
      "epoch 15 : loss 0.20852212607860565\n",
      "epoch 16 : loss 0.20619340240955353\n",
      "epoch 17 : loss 0.20389102399349213\n",
      "epoch 18 : loss 0.20161405205726624\n",
      "epoch 19 : loss 0.19936276972293854\n",
      "epoch 20 : loss 0.19713659584522247\n",
      "epoch 21 : loss 0.19493497908115387\n",
      "epoch 22 : loss 0.19275832176208496\n",
      "epoch 23 : loss 0.1906057745218277\n",
      "epoch 24 : loss 0.1884772628545761\n",
      "epoch 25 : loss 0.1863725334405899\n",
      "epoch 26 : loss 0.18429140746593475\n",
      "epoch 27 : loss 0.18223342299461365\n",
      "epoch 28 : loss 0.1801985651254654\n",
      "epoch 29 : loss 0.17818623781204224\n",
      "epoch 30 : loss 0.17619642615318298\n",
      "epoch 31 : loss 0.17422884702682495\n",
      "epoch 32 : loss 0.17228327691555023\n",
      "epoch 33 : loss 0.17035935819149017\n",
      "epoch 34 : loss 0.16845712065696716\n",
      "epoch 35 : loss 0.16657596826553345\n",
      "epoch 36 : loss 0.16471578180789948\n",
      "epoch 37 : loss 0.1628764271736145\n",
      "epoch 38 : loss 0.16105759143829346\n",
      "epoch 39 : loss 0.15925906598567963\n",
      "epoch 40 : loss 0.1574806272983551\n",
      "epoch 41 : loss 0.15572229027748108\n",
      "epoch 42 : loss 0.15398330986499786\n",
      "epoch 43 : loss 0.152263805270195\n",
      "epoch 44 : loss 0.1505633443593979\n",
      "epoch 45 : loss 0.14888213574886322\n",
      "epoch 46 : loss 0.14721965789794922\n",
      "epoch 47 : loss 0.14557558298110962\n",
      "epoch 48 : loss 0.14394986629486084\n",
      "epoch 49 : loss 0.14234256744384766\n",
      "epoch 50 : loss 0.14075304567813873\n",
      "epoch 51 : loss 0.13918118178844452\n",
      "epoch 52 : loss 0.13762718439102173\n",
      "epoch 53 : loss 0.13609014451503754\n",
      "epoch 54 : loss 0.13457061350345612\n",
      "epoch 55 : loss 0.13306771218776703\n",
      "epoch 56 : loss 0.13158175349235535\n",
      "epoch 57 : loss 0.1301123946905136\n",
      "epoch 58 : loss 0.12865950167179108\n",
      "epoch 59 : loss 0.12722279131412506\n",
      "epoch 60 : loss 0.12580226361751556\n",
      "epoch 61 : loss 0.12439720332622528\n",
      "epoch 62 : loss 0.12300813943147659\n",
      "epoch 63 : loss 0.12163449078798294\n",
      "epoch 64 : loss 0.12027621269226074\n",
      "epoch 65 : loss 0.11893312633037567\n",
      "epoch 66 : loss 0.11760518699884415\n",
      "epoch 67 : loss 0.11629173904657364\n",
      "epoch 68 : loss 0.11499310284852982\n",
      "epoch 69 : loss 0.11370914429426193\n",
      "epoch 70 : loss 0.11243915557861328\n",
      "epoch 71 : loss 0.11118375509977341\n",
      "epoch 72 : loss 0.10994217544794083\n",
      "epoch 73 : loss 0.1087145060300827\n",
      "epoch 74 : loss 0.10750038921833038\n",
      "epoch 75 : loss 0.1063000038266182\n",
      "epoch 76 : loss 0.10511285811662674\n",
      "epoch 77 : loss 0.10393917560577393\n",
      "epoch 78 : loss 0.10277846455574036\n",
      "epoch 79 : loss 0.10163092613220215\n",
      "epoch 80 : loss 0.1004958227276802\n",
      "epoch 81 : loss 0.09937364608049393\n",
      "epoch 82 : loss 0.09826397150754929\n",
      "epoch 83 : loss 0.09716679900884628\n",
      "epoch 84 : loss 0.09608150273561478\n",
      "epoch 85 : loss 0.0950087383389473\n",
      "epoch 86 : loss 0.09394772350788116\n",
      "epoch 87 : loss 0.09289851784706116\n",
      "epoch 88 : loss 0.09186121821403503\n",
      "epoch 89 : loss 0.09083549678325653\n",
      "epoch 90 : loss 0.0898212417960167\n",
      "epoch 91 : loss 0.08881804347038269\n",
      "epoch 92 : loss 0.0878261998295784\n",
      "epoch 93 : loss 0.08684547990560532\n",
      "epoch 94 : loss 0.08587584644556046\n",
      "epoch 95 : loss 0.08491671830415726\n",
      "epoch 96 : loss 0.08396849036216736\n",
      "epoch 97 : loss 0.08303070813417435\n",
      "epoch 98 : loss 0.0821036770939827\n",
      "epoch 99 : loss 0.08118676394224167\n"
     ]
    },
    {
     "name": "stderr",
     "output_type": "stream",
     "text": [
      "C:\\Users\\Abhishek\\Anaconda3\\envs\\fastai\\lib\\site-packages\\ipykernel_launcher.py:18: UserWarning: invalid index of a 0-dim tensor. This will be an error in PyTorch 0.5. Use tensor.item() to convert a 0-dim tensor to a Python number\n"
     ]
    }
   ],
   "source": [
    "epochs = 100\n",
    "\n",
    "for epoch in range(epochs):\n",
    "    \n",
    "    inputs = Variable(torch.from_numpy(x_train))\n",
    "    labels = Variable(torch.from_numpy(y_train))\n",
    "    \n",
    "    optimizer.zero_grad()\n",
    "    \n",
    "    predictions = model(inputs)\n",
    "    \n",
    "    loss = criterion(predictions,labels)\n",
    "    \n",
    "    loss.backward()\n",
    "    \n",
    "    optimizer.step()\n",
    "    \n",
    "    print(\"epoch {} : loss {}\".format(epoch,loss.data[0]))"
   ]
  },
  {
   "cell_type": "code",
   "execution_count": 13,
   "metadata": {},
   "outputs": [
    {
     "data": {
      "text/plain": [
       "tensor([[  0.9987],\n",
       "        [  2.9989],\n",
       "        [  4.9991],\n",
       "        [  6.9992],\n",
       "        [  8.9994],\n",
       "        [ 10.9996],\n",
       "        [ 12.9998],\n",
       "        [ 15.0000],\n",
       "        [ 17.0002],\n",
       "        [ 19.0004],\n",
       "        [ 21.0006]])"
      ]
     },
     "execution_count": 13,
     "metadata": {},
     "output_type": "execute_result"
    }
   ],
   "source": [
    "y_pred = model(Variable(torch.from_numpy(x_train)))\n",
    "y_pred"
   ]
  },
  {
   "cell_type": "code",
   "execution_count": 11,
   "metadata": {},
   "outputs": [
    {
     "data": {
      "text/plain": [
       "array([[ 1.],\n",
       "       [ 3.],\n",
       "       [ 5.],\n",
       "       [ 7.],\n",
       "       [ 9.],\n",
       "       [11.],\n",
       "       [13.],\n",
       "       [15.],\n",
       "       [17.],\n",
       "       [19.],\n",
       "       [21.]], dtype=float32)"
      ]
     },
     "execution_count": 11,
     "metadata": {},
     "output_type": "execute_result"
    }
   ],
   "source": [
    "y_train"
   ]
  },
  {
   "cell_type": "code",
   "execution_count": 21,
   "metadata": {},
   "outputs": [],
   "source": [
    "torch.save(model.state_dict(),'linreg.pkl')"
   ]
  },
  {
   "cell_type": "code",
   "execution_count": 12,
   "metadata": {},
   "outputs": [],
   "source": [
    "model.load_state_dict(torch.load('linreg.pkl'))"
   ]
  },
  {
   "cell_type": "code",
   "execution_count": null,
   "metadata": {},
   "outputs": [],
   "source": []
  },
  {
   "cell_type": "code",
   "execution_count": null,
   "metadata": {},
   "outputs": [],
   "source": []
  }
 ],
 "metadata": {
  "kernelspec": {
   "display_name": "Python 3",
   "language": "python",
   "name": "python3"
  },
  "language_info": {
   "codemirror_mode": {
    "name": "ipython",
    "version": 3
   },
   "file_extension": ".py",
   "mimetype": "text/x-python",
   "name": "python",
   "nbconvert_exporter": "python",
   "pygments_lexer": "ipython3",
   "version": "3.6.5"
  }
 },
 "nbformat": 4,
 "nbformat_minor": 2
}
