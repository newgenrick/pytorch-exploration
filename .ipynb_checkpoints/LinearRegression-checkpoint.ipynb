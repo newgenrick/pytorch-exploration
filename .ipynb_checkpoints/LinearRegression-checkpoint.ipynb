{
 "cells": [
  {
   "cell_type": "markdown",
   "metadata": {},
   "source": [
    "## Linear Regression"
   ]
  },
  {
   "cell_type": "code",
   "execution_count": 1,
   "metadata": {},
   "outputs": [],
   "source": [
    "import numpy as np\n",
    "import torch\n",
    "import matplotlib.pyplot as plt\n",
    "import torch.nn as nn\n",
    "from torch.autograd import Variable"
   ]
  },
  {
   "cell_type": "code",
   "execution_count": 2,
   "metadata": {},
   "outputs": [],
   "source": [
    "x_values = [i for i in range(11)]\n",
    "x_train = np.array(x_values,dtype = np.float32)\n",
    "x_train = x_train.reshape(-1,1)"
   ]
  },
  {
   "cell_type": "code",
   "execution_count": 3,
   "metadata": {},
   "outputs": [],
   "source": [
    "y_values = [2*i+1 for i in x_values]\n",
    "y_train = np.array(y_values,dtype = np.float32)\n",
    "y_train = y_train.reshape(-1,1)"
   ]
  },
  {
   "cell_type": "code",
   "execution_count": 4,
   "metadata": {},
   "outputs": [],
   "source": [
    "# creating model class\n",
    "class LinearRegressionModel(nn.Module):\n",
    "    \n",
    "    def __init__(self, input_dim, output_dim):\n",
    "        super(LinearRegressionModel,self).__init__()\n",
    "        self.linear = nn.Linear(input_dim, output_dim)\n",
    "        \n",
    "    def forward(self,x):\n",
    "        out = self.linear(x)\n",
    "        return out"
   ]
  },
  {
   "cell_type": "code",
   "execution_count": 5,
   "metadata": {},
   "outputs": [],
   "source": [
    "input_dim = 1\n",
    "output_dim = 1\n",
    "\n",
    "model = LinearRegressionModel(input_dim, output_dim)"
   ]
  },
  {
   "cell_type": "code",
   "execution_count": 6,
   "metadata": {},
   "outputs": [
    {
     "data": {
      "text/plain": [
       "LinearRegressionModel(\n",
       "  (linear): Linear(in_features=1, out_features=1, bias=True)\n",
       ")"
      ]
     },
     "execution_count": 6,
     "metadata": {},
     "output_type": "execute_result"
    }
   ],
   "source": [
    "model"
   ]
  },
  {
   "cell_type": "code",
   "execution_count": 7,
   "metadata": {},
   "outputs": [],
   "source": [
    "criterion = nn.MSELoss()"
   ]
  },
  {
   "cell_type": "code",
   "execution_count": 8,
   "metadata": {},
   "outputs": [],
   "source": [
    "learning_rate = 0.01\n",
    "\n",
    "optimizer = torch.optim.SGD(model.parameters(), lr = learning_rate)"
   ]
  },
  {
   "cell_type": "code",
   "execution_count": 19,
   "metadata": {},
   "outputs": [
    {
     "name": "stdout",
     "output_type": "stream",
     "text": [
      "epoch 0 : loss 1.5653597529308172e-06\n",
      "epoch 1 : loss 1.5479996591238887e-06\n",
      "epoch 2 : loss 1.5309494756365893e-06\n",
      "epoch 3 : loss 1.5131471400309238e-06\n",
      "epoch 4 : loss 1.4965942227718187e-06\n",
      "epoch 5 : loss 1.479912953072926e-06\n",
      "epoch 6 : loss 1.4638823131463141e-06\n",
      "epoch 7 : loss 1.4470894029727788e-06\n",
      "epoch 8 : loss 1.430883912689751e-06\n",
      "epoch 9 : loss 1.414412281519617e-06\n",
      "epoch 10 : loss 1.3988646969664842e-06\n",
      "epoch 11 : loss 1.3828707778884564e-06\n",
      "epoch 12 : loss 1.3677042716153665e-06\n",
      "epoch 13 : loss 1.3522833341994556e-06\n",
      "epoch 14 : loss 1.3378667063079774e-06\n",
      "epoch 15 : loss 1.3226218698036973e-06\n",
      "epoch 16 : loss 1.307509478465363e-06\n",
      "epoch 17 : loss 1.2934474398207385e-06\n",
      "epoch 18 : loss 1.2788988215106656e-06\n",
      "epoch 19 : loss 1.2646457889786689e-06\n",
      "epoch 20 : loss 1.2501681112553342e-06\n",
      "epoch 21 : loss 1.2359677157292026e-06\n",
      "epoch 22 : loss 1.222888727170357e-06\n",
      "epoch 23 : loss 1.2094785688532284e-06\n",
      "epoch 24 : loss 1.195880827253859e-06\n",
      "epoch 25 : loss 1.1825915180452284e-06\n",
      "epoch 26 : loss 1.169620645669056e-06\n",
      "epoch 27 : loss 1.1558412325030076e-06\n",
      "epoch 28 : loss 1.1427106301198364e-06\n",
      "epoch 29 : loss 1.1298975550744217e-06\n",
      "epoch 30 : loss 1.1177215810675989e-06\n",
      "epoch 31 : loss 1.1049950217056903e-06\n",
      "epoch 32 : loss 1.093014475372911e-06\n",
      "epoch 33 : loss 1.0803830718941754e-06\n",
      "epoch 34 : loss 1.0684125300031155e-06\n",
      "epoch 35 : loss 1.0564198191787e-06\n",
      "epoch 36 : loss 1.044840587383078e-06\n",
      "epoch 37 : loss 1.0330626309951185e-06\n",
      "epoch 38 : loss 1.0219474688710761e-06\n",
      "epoch 39 : loss 1.0100540066559915e-06\n",
      "epoch 40 : loss 9.987705880121212e-07\n",
      "epoch 41 : loss 9.8750217603083e-07\n",
      "epoch 42 : loss 9.767517212821986e-07\n",
      "epoch 43 : loss 9.658372164267348e-07\n",
      "epoch 44 : loss 9.55328687268775e-07\n",
      "epoch 45 : loss 9.440684607397998e-07\n",
      "epoch 46 : loss 9.33414924020326e-07\n",
      "epoch 47 : loss 9.237726885658049e-07\n",
      "epoch 48 : loss 9.128908118327672e-07\n",
      "epoch 49 : loss 9.02656040580041e-07\n",
      "epoch 50 : loss 8.92584523626283e-07\n",
      "epoch 51 : loss 8.831826789901243e-07\n",
      "epoch 52 : loss 8.730645504329004e-07\n",
      "epoch 53 : loss 8.630955221633485e-07\n",
      "epoch 54 : loss 8.533731943316525e-07\n",
      "epoch 55 : loss 8.440919714303163e-07\n",
      "epoch 56 : loss 8.34592356113717e-07\n",
      "epoch 57 : loss 8.25147310479224e-07\n",
      "epoch 58 : loss 8.160258744283055e-07\n",
      "epoch 59 : loss 8.070170451901504e-07\n",
      "epoch 60 : loss 7.977238283274346e-07\n",
      "epoch 61 : loss 7.89116199939599e-07\n",
      "epoch 62 : loss 7.804905521879846e-07\n",
      "epoch 63 : loss 7.717678727203747e-07\n",
      "epoch 64 : loss 7.626634896951145e-07\n",
      "epoch 65 : loss 7.543765718764917e-07\n",
      "epoch 66 : loss 7.458534696525021e-07\n",
      "epoch 67 : loss 7.376116286650358e-07\n",
      "epoch 68 : loss 7.290079793165205e-07\n",
      "epoch 69 : loss 7.212605623863055e-07\n",
      "epoch 70 : loss 7.130749963835115e-07\n",
      "epoch 71 : loss 7.049539476611244e-07\n",
      "epoch 72 : loss 6.973314157221466e-07\n",
      "epoch 73 : loss 6.896764261909993e-07\n",
      "epoch 74 : loss 6.817219286858744e-07\n",
      "epoch 75 : loss 6.743710514456325e-07\n",
      "epoch 76 : loss 6.667191314591037e-07\n",
      "epoch 77 : loss 6.59585793982842e-07\n",
      "epoch 78 : loss 6.519807129734545e-07\n",
      "epoch 79 : loss 6.449523652918288e-07\n",
      "epoch 80 : loss 6.375075258802099e-07\n",
      "epoch 81 : loss 6.300371637735225e-07\n",
      "epoch 82 : loss 6.235252385522472e-07\n",
      "epoch 83 : loss 6.164652859297348e-07\n",
      "epoch 84 : loss 6.09151527442009e-07\n",
      "epoch 85 : loss 6.028153052284324e-07\n",
      "epoch 86 : loss 5.958497695246479e-07\n",
      "epoch 87 : loss 5.892740091439919e-07\n",
      "epoch 88 : loss 5.826281608278805e-07\n",
      "epoch 89 : loss 5.763271246905788e-07\n",
      "epoch 90 : loss 5.699304779227532e-07\n",
      "epoch 91 : loss 5.634285002997785e-07\n",
      "epoch 92 : loss 5.570780103880679e-07\n",
      "epoch 93 : loss 5.509972993422707e-07\n",
      "epoch 94 : loss 5.446410114018363e-07\n",
      "epoch 95 : loss 5.385867325458094e-07\n",
      "epoch 96 : loss 5.324972676135076e-07\n",
      "epoch 97 : loss 5.265836193757423e-07\n",
      "epoch 98 : loss 5.207662638895272e-07\n",
      "epoch 99 : loss 5.149822754901834e-07\n"
     ]
    },
    {
     "name": "stderr",
     "output_type": "stream",
     "text": [
      "C:\\Users\\Abhishek\\Anaconda3\\envs\\fastai\\lib\\site-packages\\ipykernel_launcher.py:18: UserWarning: invalid index of a 0-dim tensor. This will be an error in PyTorch 0.5. Use tensor.item() to convert a 0-dim tensor to a Python number\n"
     ]
    }
   ],
   "source": [
    "epochs = 100\n",
    "\n",
    "for epoch in range(epochs):\n",
    "    \n",
    "    inputs = Variable(torch.from_numpy(x_train))\n",
    "    labels = Variable(torch.from_numpy(y_train))\n",
    "    \n",
    "    optimizer.zero_grad()\n",
    "    \n",
    "    predictions = model(inputs)\n",
    "    \n",
    "    loss = criterion(predictions,labels)\n",
    "    \n",
    "    loss.backward()\n",
    "    \n",
    "    optimizer.step()\n",
    "    \n",
    "    print(\"epoch {} : loss {}\".format(epoch,loss.data[0]))"
   ]
  },
  {
   "cell_type": "code",
   "execution_count": 20,
   "metadata": {},
   "outputs": [
    {
     "data": {
      "text/plain": [
       "tensor([[  0.9987],\n",
       "        [  2.9989],\n",
       "        [  4.9991],\n",
       "        [  6.9992],\n",
       "        [  8.9994],\n",
       "        [ 10.9996],\n",
       "        [ 12.9998],\n",
       "        [ 15.0000],\n",
       "        [ 17.0002],\n",
       "        [ 19.0004],\n",
       "        [ 21.0006]])"
      ]
     },
     "execution_count": 20,
     "metadata": {},
     "output_type": "execute_result"
    }
   ],
   "source": [
    "y_pred = model(Variable(torch.from_numpy(x_train)))\n",
    "y_pred"
   ]
  },
  {
   "cell_type": "code",
   "execution_count": 12,
   "metadata": {},
   "outputs": [
    {
     "data": {
      "text/plain": [
       "array([[ 1.],\n",
       "       [ 3.],\n",
       "       [ 5.],\n",
       "       [ 7.],\n",
       "       [ 9.],\n",
       "       [11.],\n",
       "       [13.],\n",
       "       [15.],\n",
       "       [17.],\n",
       "       [19.],\n",
       "       [21.]], dtype=float32)"
      ]
     },
     "execution_count": 12,
     "metadata": {},
     "output_type": "execute_result"
    }
   ],
   "source": [
    "y_train"
   ]
  },
  {
   "cell_type": "code",
   "execution_count": null,
   "metadata": {},
   "outputs": [],
   "source": []
  },
  {
   "cell_type": "code",
   "execution_count": null,
   "metadata": {},
   "outputs": [],
   "source": []
  },
  {
   "cell_type": "code",
   "execution_count": null,
   "metadata": {},
   "outputs": [],
   "source": []
  },
  {
   "cell_type": "code",
   "execution_count": null,
   "metadata": {},
   "outputs": [],
   "source": []
  }
 ],
 "metadata": {
  "kernelspec": {
   "display_name": "Python 3",
   "language": "python",
   "name": "python3"
  },
  "language_info": {
   "codemirror_mode": {
    "name": "ipython",
    "version": 3
   },
   "file_extension": ".py",
   "mimetype": "text/x-python",
   "name": "python",
   "nbconvert_exporter": "python",
   "pygments_lexer": "ipython3",
   "version": "3.6.5"
  }
 },
 "nbformat": 4,
 "nbformat_minor": 2
}
